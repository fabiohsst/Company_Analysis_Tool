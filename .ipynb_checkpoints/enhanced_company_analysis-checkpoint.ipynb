{
 "cells": [
  {
   "cell_type": "markdown",
   "id": "7a5a7b1f",
   "metadata": {},
   "source": [
    "# 📊 Company Analysis with GenAI\n",
    "\n",
    "This notebook performs a structured analysis of companies using Generative AI.\n",
    "The goal is to collect and process relevant information, then feed it into GPT-4-o for deeper insights."
   ]
  },
  {
   "cell_type": "markdown",
   "id": "1435cb61",
   "metadata": {},
   "source": [
    "## 🔍 Objective\n",
    "\n",
    "We will:\n",
    "- Extract company details\n",
    "- Process and structure the information\n",
    "- Use GPT-4-o to analyze and summarize insights"
   ]
  },
  {
   "cell_type": "markdown",
   "id": "df686eb9",
   "metadata": {},
   "source": [
    "## 📥 Data Collection\n",
    "\n",
    "The notebook gathers data from various sources, processes it, and structures it into a meaningful format for further analysis."
   ]
  },
  {
   "cell_type": "markdown",
   "id": "de3bb506",
   "metadata": {},
   "source": [
    "## 🛠️ Data Processing\n",
    "\n",
    "The collected data is cleaned and formatted to ensure compatibility with GPT-4-o."
   ]
  },
  {
   "cell_type": "markdown",
   "id": "d40a7800",
   "metadata": {},
   "source": [
    "## 🤖 AI-Powered Analysis\n",
    "\n",
    "GPT-4-o is used to analyze and generate insights based on the structured company data."
   ]
  },
  {
   "cell_type": "markdown",
   "id": "06085e38",
   "metadata": {},
   "source": [
    "## 📈 Results and Interpretation\n",
    "\n",
    "The AI-generated insights are reviewed and interpreted for decision-making."
   ]
  },
  {
   "cell_type": "markdown",
   "id": "83682060",
   "metadata": {},
   "source": [
    "## 📌 Conclusion\n",
    "\n",
    "This process enables a structured, AI-driven approach to company analysis, providing valuable insights for business intelligence and decision-making."
   ]
  },
  {
   "cell_type": "code",
   "execution_count": null,
   "id": "b55e1dd5",
   "metadata": {},
   "outputs": [],
   "source": [
    "# Import necessary libraries\n",
    "# imports\n",
    "\n",
    "import os\n",
    "import requests\n",
    "import json\n",
    "from typing import List\n",
    "from dotenv import load_dotenv\n",
    "from bs4 import BeautifulSoup\n",
    "from IPython.display import Markdown, display, update_display\n",
    "from openai import OpenAI"
   ]
  },
  {
   "cell_type": "code",
   "execution_count": null,
   "id": "2e37777f",
   "metadata": {},
   "outputs": [],
   "source": [
    "# Initialize and constants\n",
    "\n",
    "load_dotenv(override=True)\n",
    "api_key = os.getenv('OPENAI_API_KEY')\n",
    "\n",
    "if api_key and api_key.startswith('sk-proj-') and len(api_key)>10:\n",
    "    print(\"API key looks good so far\")\n",
    "else:\n",
    "    print(\"There might be a problem with your API key? Please visit the troubleshooting notebook!\")\n",
    "    \n",
    "MODEL = 'gpt-4o-mini'\n",
    "openai = OpenAI()"
   ]
  },
  {
   "cell_type": "code",
   "execution_count": null,
   "id": "856590e2",
   "metadata": {},
   "outputs": [],
   "source": [
    "# A class to represent a Webpage\n",
    "\n",
    "# Some websites need you to use proper headers when fetching them:\n",
    "headers = {\n",
    " \"User-Agent\": \"Mozilla/5.0 (Windows NT 10.0; Win64; x64) AppleWebKit/537.36 (KHTML, like Gecko) Chrome/117.0.0.0 Safari/537.36\"\n",
    "}\n",
    "\n",
    "class Website:\n",
    "    \"\"\"\n",
    "    A utility class to represent a Website that we have scraped, now with links\n",
    "    \"\"\"\n",
    "\n",
    "    def __init__(self, url):\n",
    "        self.url = url\n",
    "        response = requests.get(url, headers=headers)\n",
    "        self.body = response.content\n",
    "        soup = BeautifulSoup(self.body, 'html.parser')\n",
    "        self.title = soup.title.string if soup.title else \"No title found\"\n",
    "        if soup.body:\n",
    "            for irrelevant in soup.body([\"script\", \"style\", \"img\", \"input\"]):\n",
    "                irrelevant.decompose()\n",
    "            self.text = soup.body.get_text(separator=\"\\n\", strip=True)\n",
    "        else:\n",
    "            self.text = \"\"\n",
    "        links = [link.get('href') for link in soup.find_all('a')]\n",
    "        self.links = [link for link in links if link]\n",
    "\n",
    "    def get_contents(self):\n",
    "        return f\"Webpage Title:\\n{self.title}\\nWebpage Contents:\\n{self.text}\\n\\n\""
   ]
  },
  {
   "cell_type": "code",
   "execution_count": null,
   "id": "f65918ea",
   "metadata": {},
   "outputs": [],
   "source": [
    "fair_supply = Website(\"https://www.linkedin.com/company/fairsupply-com-au-pty-limited/\")\n",
    "print(fair_supply.get_contents())"
   ]
  },
  {
   "cell_type": "code",
   "execution_count": null,
   "id": "49a22d84",
   "metadata": {},
   "outputs": [],
   "source": [
    "fair_supply.links\n"
   ]
  },
  {
   "cell_type": "code",
   "execution_count": null,
   "id": "ce785005",
   "metadata": {},
   "outputs": [],
   "source": [
    "link_system_prompt = (\n",
    "    \"You are provided with a list of links found on a LinkedIn page. \"\n",
    "    \"Decide which of these links are most relevant for a thorough company analysis—\"\n",
    "    \"for example, a company profile, job postings, or employee profiles. \"\n",
    "    \"Exclude Terms of Service, Privacy policy, or email links. \"\n",
    "    \"You should respond in JSON as in this example:\"\n",
    ")\n",
    "link_system_prompt += \"\"\"\n",
    "{\n",
    "    \"links\": [\n",
    "        {\"type\": \"company profile\", \"url\": \"https://www.linkedin.com/company/example-company\"},\n",
    "        {\"type\": \"job posting\", \"url\": \"https://www.linkedin.com/jobs/view/123456/\"},\n",
    "        {\"type\": \"employee profile\", \"url\": \"https://www.linkedin.com/in/john-doe\"}\n",
    "    ]\n",
    "}\n",
    "\"\"\"\n",
    "\n"
   ]
  },
  {
   "cell_type": "code",
   "execution_count": null,
   "id": "f0344ad2",
   "metadata": {},
   "outputs": [],
   "source": [
    "print(link_system_prompt)"
   ]
  },
  {
   "cell_type": "code",
   "execution_count": null,
   "id": "d74bdcb2",
   "metadata": {},
   "outputs": [],
   "source": [
    "def get_links_user_prompt(website):\n",
    "    user_prompt = (\n",
    "        f\"Here is the list of links on the website of {website.url}. \"\n",
    "        \"Please decide which of these are relevant for a thorough company analysis. \"\n",
    "        \"Specifically, we are looking for pages or resources that help assess the company's background, mission, \"\n",
    "        \"values, leadership, culture, finances, or job opportunities. \"\n",
    "        \"Provide your response in JSON format, listing the full https URLs. \"\n",
    "        \"Do not include Terms of Service, Privacy policy, or email links.\\n\"\n",
    "        \"Links (some might be relative links):\\n\"\n",
    "    )\n",
    "    user_prompt += \"\\n\".join(website.links)\n",
    "    return user_prompt\n"
   ]
  },
  {
   "cell_type": "code",
   "execution_count": null,
   "id": "ee9f7da9",
   "metadata": {},
   "outputs": [],
   "source": [
    "print(get_links_user_prompt(fair_supply))"
   ]
  },
  {
   "cell_type": "code",
   "execution_count": null,
   "id": "64e95f2f",
   "metadata": {},
   "outputs": [],
   "source": [
    "def get_links(url):\n",
    "    website = Website(url)\n",
    "    response = openai.chat.completions.create(\n",
    "        model=MODEL,\n",
    "        messages=[\n",
    "            {\"role\": \"system\", \"content\": link_system_prompt},\n",
    "            {\"role\": \"user\", \"content\": get_links_user_prompt(website)}\n",
    "      ],\n",
    "        response_format={\"type\": \"json_object\"}\n",
    "    )\n",
    "    result = response.choices[0].message.content\n",
    "    return json.loads(result)"
   ]
  },
  {
   "cell_type": "code",
   "execution_count": null,
   "id": "c449b21c",
   "metadata": {},
   "outputs": [],
   "source": [
    "# Checking links from LinkedIn on Fair Supply LinkedIn page\n",
    "get_links(\"https://www.linkedin.com/company/fairsupply-com-au-pty-limited/\")"
   ]
  },
  {
   "cell_type": "code",
   "execution_count": null,
   "id": "57ad204d",
   "metadata": {},
   "outputs": [],
   "source": [
    "def get_all_details(url):\n",
    "    result = \"Landing page:\\n\"\n",
    "    result += Website(url).get_contents()\n",
    "    links = get_links(url)\n",
    "    print(\"Found links:\", links)\n",
    "    for link in links[\"links\"]:\n",
    "        result += f\"\\n\\n{link['type']}\\n\"\n",
    "        result += Website(link[\"url\"]).get_contents()\n",
    "    return result"
   ]
  },
  {
   "cell_type": "code",
   "execution_count": null,
   "id": "d080879e",
   "metadata": {},
   "outputs": [],
   "source": [
    "print(get_all_details(\"https://www.linkedin.com/company/fairsupply-com-au-pty-limited/people/\"))"
   ]
  },
  {
   "cell_type": "code",
   "execution_count": null,
   "id": "03384a1d",
   "metadata": {},
   "outputs": [],
   "source": [
    "system_prompt = \"You are an assistant that analyzes the contents of several relevant pages from a company website, \\\n",
    "focusing on a thorough company analysis. Provide a concise overview of the company’s background, mission, \\\n",
    "values, leadership, workplace culture, and job opportunities. Respond in Markdown format. \\\n",
    "Include any details that would be helpful for a prospective candidate evaluating the company, \\\n",
    "such as career growth, employee development, or insights into day-to-day life, if available.\"\n"
   ]
  },
  {
   "cell_type": "code",
   "execution_count": null,
   "id": "e5441af2",
   "metadata": {},
   "outputs": [],
   "source": [
    "def get_company_analysis_user_prompt(company_name, url):\n",
    "    user_prompt = f\"You are looking at a company called: {company_name}\\n\"\n",
    "    user_prompt += (\n",
    "        \"Here are the contents of its linkedin page and other relevant pages. \"\n",
    "        \"Use this information to create a concise overview of the company that focuses on a thorough company analysis. \"\n",
    "        \"Highlight the company's mission, values, leadership, culture, and job opportunities—\"\n",
    "        \"any insights relevant for someone evaluating this company as a potential employer. \"\n",
    "        \"Respond in Markdown.\\n\"\n",
    "    )\n",
    "    user_prompt += get_all_details(url)\n",
    "    user_prompt = user_prompt[:20_000]  # Truncate if more than 20,000 characters\n",
    "    return user_prompt\n"
   ]
  },
  {
   "cell_type": "code",
   "execution_count": null,
   "id": "9ed38c5b",
   "metadata": {},
   "outputs": [],
   "source": [
    "get_company_analysis_user_prompt(\"Fair Supply\", \"https://www.linkedin.com/company/fairsupply-com-au-pty-limited/\")"
   ]
  },
  {
   "cell_type": "code",
   "execution_count": null,
   "id": "82baac18",
   "metadata": {},
   "outputs": [],
   "source": [
    "def create_company_analysis(company_name, url):\n",
    "    stream = openai.chat.completions.create(\n",
    "        model=MODEL,\n",
    "        messages=[\n",
    "            {\"role\": \"system\", \"content\": system_prompt},\n",
    "            {\"role\": \"user\", \"content\": get_company_analysis_user_prompt(company_name, url)}\n",
    "          ],\n",
    "        stream=True\n",
    "    )\n",
    "    \n",
    "    response = \"\"\n",
    "    display_handle = display(Markdown(\"\"), display_id=True)\n",
    "    for chunk in stream:\n",
    "        response += chunk.choices[0].delta.content or ''\n",
    "        response = response.replace(\"```\",\"\").replace(\"markdown\", \"\")\n",
    "        update_display(Markdown(response), display_id=display_handle.display_id)"
   ]
  },
  {
   "cell_type": "code",
   "execution_count": null,
   "id": "659d3dc9",
   "metadata": {},
   "outputs": [],
   "source": [
    "create_company_analysis(\"Nebula.io\", \"https://www.linkedin.com/company/nebula-io/\")"
   ]
  }
 ],
 "metadata": {},
 "nbformat": 4,
 "nbformat_minor": 5
}
